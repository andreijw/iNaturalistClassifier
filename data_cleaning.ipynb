{
 "cells": [
  {
   "cell_type": "code",
   "execution_count": 49,
   "metadata": {},
   "outputs": [],
   "source": [
    "import pandas as pd\n",
    "import numpy as np\n",
    "import spacy\n",
    "\n",
    "dataset_path = \"DataSet/dataset_1.csv\"\n",
    "df = pd.read_csv(dataset_path)"
   ]
  },
  {
   "cell_type": "code",
   "execution_count": 50,
   "metadata": {},
   "outputs": [
    {
     "data": {
      "text/html": [
       "<div>\n",
       "<style scoped>\n",
       "    .dataframe tbody tr th:only-of-type {\n",
       "        vertical-align: middle;\n",
       "    }\n",
       "\n",
       "    .dataframe tbody tr th {\n",
       "        vertical-align: top;\n",
       "    }\n",
       "\n",
       "    .dataframe thead th {\n",
       "        text-align: right;\n",
       "    }\n",
       "</style>\n",
       "<table border=\"1\" class=\"dataframe\">\n",
       "  <thead>\n",
       "    <tr style=\"text-align: right;\">\n",
       "      <th></th>\n",
       "      <th>id</th>\n",
       "      <th>taxon.id</th>\n",
       "      <th>taxon.rank_level</th>\n",
       "    </tr>\n",
       "  </thead>\n",
       "  <tbody>\n",
       "    <tr>\n",
       "      <th>count</th>\n",
       "      <td>1.084290e+05</td>\n",
       "      <td>1.084290e+05</td>\n",
       "      <td>108429.000000</td>\n",
       "    </tr>\n",
       "    <tr>\n",
       "      <th>mean</th>\n",
       "      <td>1.444728e+08</td>\n",
       "      <td>1.716065e+05</td>\n",
       "      <td>12.120881</td>\n",
       "    </tr>\n",
       "    <tr>\n",
       "      <th>std</th>\n",
       "      <td>7.169316e+07</td>\n",
       "      <td>1.982876e+05</td>\n",
       "      <td>4.398103</td>\n",
       "    </tr>\n",
       "    <tr>\n",
       "      <th>min</th>\n",
       "      <td>7.918000e+03</td>\n",
       "      <td>4.999500e+04</td>\n",
       "      <td>5.000000</td>\n",
       "    </tr>\n",
       "    <tr>\n",
       "      <th>25%</th>\n",
       "      <td>8.421476e+07</td>\n",
       "      <td>5.248900e+04</td>\n",
       "      <td>10.000000</td>\n",
       "    </tr>\n",
       "    <tr>\n",
       "      <th>50%</th>\n",
       "      <td>1.586697e+08</td>\n",
       "      <td>6.919000e+04</td>\n",
       "      <td>10.000000</td>\n",
       "    </tr>\n",
       "    <tr>\n",
       "      <th>75%</th>\n",
       "      <td>2.150840e+08</td>\n",
       "      <td>3.226920e+05</td>\n",
       "      <td>10.000000</td>\n",
       "    </tr>\n",
       "    <tr>\n",
       "      <th>max</th>\n",
       "      <td>2.533464e+08</td>\n",
       "      <td>1.495617e+06</td>\n",
       "      <td>30.000000</td>\n",
       "    </tr>\n",
       "  </tbody>\n",
       "</table>\n",
       "</div>"
      ],
      "text/plain": [
       "                 id      taxon.id  taxon.rank_level\n",
       "count  1.084290e+05  1.084290e+05     108429.000000\n",
       "mean   1.444728e+08  1.716065e+05         12.120881\n",
       "std    7.169316e+07  1.982876e+05          4.398103\n",
       "min    7.918000e+03  4.999500e+04          5.000000\n",
       "25%    8.421476e+07  5.248900e+04         10.000000\n",
       "50%    1.586697e+08  6.919000e+04         10.000000\n",
       "75%    2.150840e+08  3.226920e+05         10.000000\n",
       "max    2.533464e+08  1.495617e+06         30.000000"
      ]
     },
     "execution_count": 50,
     "metadata": {},
     "output_type": "execute_result"
    }
   ],
   "source": [
    "df.describe()"
   ]
  },
  {
   "cell_type": "code",
   "execution_count": 51,
   "metadata": {},
   "outputs": [
    {
     "name": "stdout",
     "output_type": "stream",
     "text": [
      "Column: id\n",
      "Unique values: [  7918   7922  23923 188235 294726 299015 322683 345187 346407 346434\n",
      " 346448 346451 355503 363410 377184 377186 377187 377188 377189 391317]\n",
      "Total unique values: 108429\n",
      "\n",
      "Column: species_guess\n",
      "Unique values: ['long hoverfly' 'sphaerophoria' 'volucella pellucens'\n",
      " 'american thintail fly' 'dangling swamp-lover' 'sericomyia silentis'\n",
      " 'marmalade hoverfly' 'meliscaeva auricollis' 'thick-legged hoverfly'\n",
      " 'stripe-winged drone fly' 'eristalis intricaria' 'common hover flies'\n",
      " 'leucozona glaucia' 'blaue breitbandschwebfliege' 'long hover fly'\n",
      " 'tapered dronefly' 'syrphus' 'chrysogaster solstitialis'\n",
      " 'leucozona laternaria' 'cheilosia illustrata']\n",
      "Total unique values: 736\n",
      "\n",
      "Column: time_observed_at\n",
      "Unique values: [nan '2013-07-06T15:53:53+01:00' '2013-07-24T01:35:25+01:00'\n",
      " '2013-07-26T11:42:17+01:00' '2013-07-26T10:57:12+01:00'\n",
      " '2013-07-26T11:22:01+01:00' '2013-07-26T10:53:01+01:00'\n",
      " '2013-08-01T12:17:59+01:00' '2013-08-10T13:48:01+01:00'\n",
      " '2013-08-25T16:33:54+01:00' '2013-08-25T16:30:50+01:00'\n",
      " '2013-08-25T15:30:47+01:00' '2013-08-25T15:30:23+01:00'\n",
      " '2013-08-25T15:55:27+01:00' '2013-09-05T16:49:37+01:00'\n",
      " '2013-09-28T15:34:28+01:00' '2013-09-28T15:36:09+01:00'\n",
      " '2013-08-11T18:41:57+08:00' '2013-09-24T13:50:14+01:00'\n",
      " '2013-09-08T13:32:50+01:00']\n",
      "Total unique values: 101516\n",
      "\n",
      "Column: identifications_most_agree\n",
      "Unique values: [ True False]\n",
      "Total unique values: 2\n",
      "\n",
      "Column: user.login\n",
      "Unique values: ['badgerseye' 'tiggrx' 'jaderr' 'rdmpage' 'hoppy1951' 'major_bombylius'\n",
      " 'ryber' 'nilpf' 'john11' 'finlaycox143' 'iana' 'petemella' 'chrismoody'\n",
      " 'c_michael_hogan' 'andyhill' 'figgybroom' 'huple' 'pling' 'guisauco'\n",
      " 'terathopius']\n",
      "Total unique values: 14004\n",
      "\n",
      "Column: uri\n",
      "Unique values: ['http://www.inaturalist.org/observations/7918'\n",
      " 'http://www.inaturalist.org/observations/7922'\n",
      " 'http://www.inaturalist.org/observations/23923'\n",
      " 'http://www.inaturalist.org/observations/188235'\n",
      " 'http://www.inaturalist.org/observations/294726'\n",
      " 'http://www.inaturalist.org/observations/299015'\n",
      " 'http://www.inaturalist.org/observations/322683'\n",
      " 'http://www.inaturalist.org/observations/345187'\n",
      " 'http://www.inaturalist.org/observations/346407'\n",
      " 'http://www.inaturalist.org/observations/346434'\n",
      " 'http://www.inaturalist.org/observations/346448'\n",
      " 'http://www.inaturalist.org/observations/346451'\n",
      " 'http://www.inaturalist.org/observations/355503'\n",
      " 'http://www.inaturalist.org/observations/363410'\n",
      " 'http://www.inaturalist.org/observations/377184'\n",
      " 'http://www.inaturalist.org/observations/377186'\n",
      " 'http://www.inaturalist.org/observations/377187'\n",
      " 'http://www.inaturalist.org/observations/377188'\n",
      " 'http://www.inaturalist.org/observations/377189'\n",
      " 'http://www.inaturalist.org/observations/391317']\n",
      "Total unique values: 108429\n",
      "\n",
      "Column: photos\n",
      "Unique values: [\"['https://inaturalist-open-data.s3.amazonaws.com/photos/17417/medium.JPG']\"\n",
      " \"['https://inaturalist-open-data.s3.amazonaws.com/photos/17421/medium.JPG']\"\n",
      " \"['https://static.inaturalist.org/photos/43082/medium.jpg']\"\n",
      " \"['https://static.inaturalist.org/photos/242603/medium.JPG']\"\n",
      " \"['https://static.inaturalist.org/photos/365028/medium.jpg']\"\n",
      " \"['https://static.inaturalist.org/photos/370271/medium.jpg']\"\n",
      " \"['https://inaturalist-open-data.s3.amazonaws.com/photos/401512/medium.jpg', 'https://inaturalist-open-data.s3.amazonaws.com/photos/401513/medium.jpg', 'https://inaturalist-open-data.s3.amazonaws.com/photos/401484/medium.jpg', 'https://inaturalist-open-data.s3.amazonaws.com/photos/401518/medium.jpg']\"\n",
      " \"['https://inaturalist-open-data.s3.amazonaws.com/photos/429757/medium.jpg']\"\n",
      " \"['https://inaturalist-open-data.s3.amazonaws.com/photos/431444/medium.jpg']\"\n",
      " \"['https://inaturalist-open-data.s3.amazonaws.com/photos/431486/medium.jpg']\"\n",
      " \"['https://inaturalist-open-data.s3.amazonaws.com/photos/431505/medium.jpg']\"\n",
      " \"['https://inaturalist-open-data.s3.amazonaws.com/photos/431508/medium.jpg', 'https://inaturalist-open-data.s3.amazonaws.com/photos/432563/medium.jpg']\"\n",
      " \"['https://inaturalist-open-data.s3.amazonaws.com/photos/443459/medium.jpg']\"\n",
      " \"['https://inaturalist-open-data.s3.amazonaws.com/photos/453725/medium.jpg', 'https://inaturalist-open-data.s3.amazonaws.com/photos/453726/medium.jpg']\"\n",
      " \"['https://inaturalist-open-data.s3.amazonaws.com/photos/471569/medium.jpg', 'https://inaturalist-open-data.s3.amazonaws.com/photos/471570/medium.jpg', 'https://inaturalist-open-data.s3.amazonaws.com/photos/471572/medium.jpg']\"\n",
      " \"['https://inaturalist-open-data.s3.amazonaws.com/photos/471568/medium.jpg']\"\n",
      " \"['https://inaturalist-open-data.s3.amazonaws.com/photos/471574/medium.jpg', 'https://inaturalist-open-data.s3.amazonaws.com/photos/471576/medium.jpg']\"\n",
      " \"['https://inaturalist-open-data.s3.amazonaws.com/photos/471580/medium.jpg']\"\n",
      " \"['https://inaturalist-open-data.s3.amazonaws.com/photos/471577/medium.jpg', 'https://inaturalist-open-data.s3.amazonaws.com/photos/471578/medium.jpg']\"\n",
      " \"['https://inaturalist-open-data.s3.amazonaws.com/photos/489572/medium.jpg']\"]\n",
      "Total unique values: 108420\n",
      "\n",
      "Column: taxon.id\n",
      "Unique values: [  52964   52965   52480  342901   52486   70190   52482  324637   81979\n",
      "  451464  497713   52489  322692   52490   70147  333680  333694   70415\n",
      "   52491 1304239]\n",
      "Total unique values: 292\n",
      "\n",
      "Column: taxon.rank\n",
      "Unique values: ['species' 'genus' 'complex' 'form' 'tribe' 'subfamily' 'subgenus'\n",
      " 'section' 'family' 'subtribe' 'subspecies']\n",
      "Total unique values: 11\n",
      "\n",
      "Column: taxon.rank_level\n",
      "Unique values: [10 20 11  5 25 27 15 13 30 24]\n",
      "Total unique values: 10\n",
      "\n",
      "Column: taxon.name\n",
      "Unique values: ['sphaerophoria scripta' 'sphaerophoria' 'volucella pellucens'\n",
      " 'meliscaeva cinctella' 'helophilus pendulus' 'sericomyia silentis'\n",
      " 'episyrphus balteatus' 'meliscaeva auricollis' 'syritta pipiens'\n",
      " 'eristalis horticola' 'eristalis intricaria' 'syrphus'\n",
      " 'leucozona glaucia' 'eristalis pertinax' 'chrysogaster solstitialis'\n",
      " 'leucozona laternaria' 'cheilosia illustrata' 'helophilus trivittatus'\n",
      " 'eristalis' 'platycheirus scutatus']\n",
      "Total unique values: 279\n",
      "\n"
     ]
    }
   ],
   "source": [
    "for column in df.columns:\n",
    "    unique_values = df[column].unique()\n",
    "    print(f\"Column: {column}\")\n",
    "    print(f\"Unique values: {unique_values[:20]}\")  # Displaying only the first 10 unique values for brevity\n",
    "    print(f\"Total unique values: {len(unique_values)}\\n\")"
   ]
  },
  {
   "cell_type": "code",
   "execution_count": 52,
   "metadata": {},
   "outputs": [
    {
     "data": {
      "text/plain": [
       "species_guess\n",
       "marmalade hover fly    7799\n",
       "tapered drone fly      7745\n",
       "common drone fly       5722\n",
       "sun fly                5108\n",
       "common flower flies    4797\n",
       "                       ... \n",
       "brachyopa pilosa          1\n",
       "stor droneflue            1\n",
       "短額巴蚜蠅                     1\n",
       "kleine bijvlieg           1\n",
       "alder halfband            1\n",
       "Name: count, Length: 736, dtype: int64"
      ]
     },
     "execution_count": 52,
     "metadata": {},
     "output_type": "execute_result"
    }
   ],
   "source": [
    "df[\"species_guess\"].value_counts()"
   ]
  },
  {
   "cell_type": "code",
   "execution_count": 53,
   "metadata": {},
   "outputs": [],
   "source": [
    "from sklearn.metrics.pairwise import cosine_similarity\n",
    "from sklearn.cluster import DBSCAN\n",
    "from fuzzywuzzy import process, fuzz\n",
    "from joblib import Parallel, delayed\n",
    "\n",
    "nlp = spacy.load(\"en_core_web_lg\")"
   ]
  },
  {
   "cell_type": "code",
   "execution_count": 54,
   "metadata": {},
   "outputs": [],
   "source": [
    "def normalize_text(text):\n",
    "    return text.lower().strip()\n",
    "\n",
    "# Function to compute text similarity matrix\n",
    "def compute_similarity_matrix(texts):\n",
    "    docs = nlp.pipe(texts)\n",
    "    vectors = np.array([doc.vector for doc in docs])\n",
    "\n",
    "    norms = np.linalg.norm(vectors, axis=1)\n",
    "    zero_norm_indices = np.where(norms == 0)[0]\n",
    "\n",
    "    if len(zero_norm_indices) > 0:\n",
    "        vectors[zero_norm_indices] = (\n",
    "            np.random.rand(len(zero_norm_indices), vectors.shape[1]) * 1e-6\n",
    "        )\n",
    "\n",
    "    norms = np.linalg.norm(vectors, axis=1)\n",
    "    vectors = vectors / norms[:, np.newaxis]\n",
    "\n",
    "    similarity_matrix = cosine_similarity(vectors)\n",
    "    return similarity_matrix\n",
    "\n",
    "\n",
    "# Function to compute fuzzy similarity matrix\n",
    "def compute_fuzzy_similarity_matrix(texts):\n",
    "    n = len(texts)\n",
    "    similarity_matrix = np.zeros((n, n))\n",
    "\n",
    "    def compute_similarity(i, j):\n",
    "        if i != j:\n",
    "            return fuzz.ratio(texts[i], texts[j]) / 100.0\n",
    "        else:\n",
    "            return 1.0\n",
    "\n",
    "    results = Parallel(n_jobs=-1)(\n",
    "        delayed(compute_similarity)(i, j) for i in range(n) for j in range(n)\n",
    "    )\n",
    "    similarity_matrix = np.array(results).reshape(n, n)\n",
    "    return similarity_matrix"
   ]
  },
  {
   "cell_type": "code",
   "execution_count": 55,
   "metadata": {},
   "outputs": [
    {
     "name": "stdout",
     "output_type": "stream",
     "text": [
      "texts:  0                   long hoverfly\n",
      "1                   sphaerophoria\n",
      "2             volucella pellucens\n",
      "3           american thintail fly\n",
      "4            dangling swamp-lover\n",
      "5            dangling swamp-lover\n",
      "6             sericomyia silentis\n",
      "7              marmalade hoverfly\n",
      "8              marmalade hoverfly\n",
      "9           meliscaeva auricollis\n",
      "10          thick-legged hoverfly\n",
      "11        stripe-winged drone fly\n",
      "12            sericomyia silentis\n",
      "13           eristalis intricaria\n",
      "14            sericomyia silentis\n",
      "15             marmalade hoverfly\n",
      "16             common hover flies\n",
      "17              leucozona glaucia\n",
      "18    blaue breitbandschwebfliege\n",
      "19                 long hover fly\n",
      "Name: species_guess, dtype: object\n"
     ]
    }
   ],
   "source": [
    "df[\"species_guess\"] = df[\"species_guess\"].apply(normalize_text)\n",
    "texts = df[\"species_guess\"][0:20]\n",
    "print(\"texts: \", texts)"
   ]
  },
  {
   "cell_type": "code",
   "execution_count": 56,
   "metadata": {},
   "outputs": [
    {
     "name": "stdout",
     "output_type": "stream",
     "text": [
      "[ 0  1  2  3  4  4  5  6  6  7  8  9 10 11 12  6 13 14 15 16]\n"
     ]
    }
   ],
   "source": [
    "similarity_matrix = compute_similarity_matrix(texts)\n",
    "np.fill_diagonal(similarity_matrix, 1)\n",
    "\n",
    "# Convert similarity matrix to distance matrix\n",
    "distance_matrix = 1 - pd.DataFrame(similarity_matrix)\n",
    "\n",
    "# Clustering using dbscan\n",
    "dbscan = DBSCAN(eps=0.15, min_samples=1, metric=\"precomputed\")\n",
    "clusters = dbscan.fit_predict(distance_matrix)\n",
    "print(clusters)"
   ]
  },
  {
   "cell_type": "code",
   "execution_count": 57,
   "metadata": {},
   "outputs": [
    {
     "name": "stdout",
     "output_type": "stream",
     "text": [
      "[ 0  1  2  3  4  4  5  6  6  7  8  9  5 10  5  6 11 12 13  0]\n"
     ]
    },
    {
     "data": {
      "image/png": "[encoded data removed]",
      "text/plain": [
       "<Figure size 1200x800 with 2 Axes>"
      ]
     },
     "metadata": {},
     "output_type": "display_data"
    }
   ],
   "source": [
    "similarity_matrix = compute_fuzzy_similarity_matrix(texts)\n",
    "\n",
    "# Convert similarity matrix to distance matrix\n",
    "distance_matrix = 1 - similarity_matrix\n",
    "dbscan = DBSCAN(eps=0.1, min_samples=1, metric=\"precomputed\")\n",
    "clusters = dbscan.fit_predict(distance_matrix)\n",
    "print(clusters)\n",
    "\n",
    "cluster_counts = np.bincount(clusters + 1)  # Add 1 to handle -1 (noise) cluster\n",
    "sizes = cluster_counts[clusters + 1] * 100\n",
    "\n",
    "# Plotting the clusters using PCA for dimensionality reduction\n",
    "pca = PCA(n_components=2)\n",
    "reduced_data = pca.fit_transform(distance_matrix)\n",
    "\n",
    "plt.figure(figsize=(12, 8))\n",
    "scatter = plt.scatter(\n",
    "    reduced_data[:, 0], reduced_data[:, 1], c=clusters, cmap=\"viridis\", s=sizes\n",
    ")\n",
    "plt.title(\"Clusters of Species Guess\")\n",
    "plt.xlabel(\"PCA Component 1\")\n",
    "plt.ylabel(\"PCA Component 2\")\n",
    "plt.colorbar(scatter, label=\"Cluster Label\")\n",
    "\n",
    "plt.show()"
   ]
  },
  {
   "cell_type": "code",
   "execution_count": null,
   "metadata": {},
   "outputs": [
    {
     "name": "stdout",
     "output_type": "stream",
     "text": [
      "5000\n"
     ]
    }
   ],
   "source": [
    "text_to_cluster = df[\"species_guess\"]\n",
    "similarity_matrix = compute_fuzzy_similarity_matrix(text_to_cluster)\n",
    "\n",
    "# Convert similarity matrix to distance matrix\n",
    "distance_matrix = 1 - similarity_matrix\n",
    "dbscan = DBSCAN(eps=0.1, min_samples=1, metric=\"precomputed\")\n",
    "clusters = dbscan.fit_predict(distance_matrix)"
   ]
  }
 ],
 "metadata": {
  "kernelspec": {
   "display_name": "env",
   "language": "python",
   "name": "python3"
  },
  "language_info": {
   "codemirror_mode": {
    "name": "ipython",
    "version": 3
   },
   "file_extension": ".py",
   "mimetype": "text/x-python",
   "name": "python",
   "nbconvert_exporter": "python",
   "pygments_lexer": "ipython3",
   "version": "3.12.4"
  }
 },
 "nbformat": 4,
 "nbformat_minor": 2
}
