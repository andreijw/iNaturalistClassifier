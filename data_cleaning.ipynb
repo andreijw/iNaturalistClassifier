{
 "cells": [
  {
   "cell_type": "code",
   "execution_count": 11,
   "metadata": {},
   "outputs": [],
   "source": [
    "import pandas as pd\n",
    "import numpy as np\n",
    "import spacy\n",
    "\n",
    "dataset_path = \"DataSet/1/dataset_1.csv\"\n",
    "df = pd.read_csv(dataset_path)"
   ]
  },
  {
   "cell_type": "code",
   "execution_count": 12,
   "metadata": {},
   "outputs": [
    {
     "data": {
      "text/html": [
       "<div>\n",
       "<style scoped>\n",
       "    .dataframe tbody tr th:only-of-type {\n",
       "        vertical-align: middle;\n",
       "    }\n",
       "\n",
       "    .dataframe tbody tr th {\n",
       "        vertical-align: top;\n",
       "    }\n",
       "\n",
       "    .dataframe thead th {\n",
       "        text-align: right;\n",
       "    }\n",
       "</style>\n",
       "<table border=\"1\" class=\"dataframe\">\n",
       "  <thead>\n",
       "    <tr style=\"text-align: right;\">\n",
       "      <th></th>\n",
       "      <th>id</th>\n",
       "      <th>taxon.id</th>\n",
       "      <th>taxon.rank_level</th>\n",
       "    </tr>\n",
       "  </thead>\n",
       "  <tbody>\n",
       "    <tr>\n",
       "      <th>count</th>\n",
       "      <td>8.507300e+04</td>\n",
       "      <td>8.507300e+04</td>\n",
       "      <td>85073.0</td>\n",
       "    </tr>\n",
       "    <tr>\n",
       "      <th>mean</th>\n",
       "      <td>1.452446e+08</td>\n",
       "      <td>1.667973e+05</td>\n",
       "      <td>10.0</td>\n",
       "    </tr>\n",
       "    <tr>\n",
       "      <th>std</th>\n",
       "      <td>7.183329e+07</td>\n",
       "      <td>1.691351e+05</td>\n",
       "      <td>0.0</td>\n",
       "    </tr>\n",
       "    <tr>\n",
       "      <th>min</th>\n",
       "      <td>7.918000e+03</td>\n",
       "      <td>5.216000e+04</td>\n",
       "      <td>10.0</td>\n",
       "    </tr>\n",
       "    <tr>\n",
       "      <th>25%</th>\n",
       "      <td>8.532996e+07</td>\n",
       "      <td>5.248800e+04</td>\n",
       "      <td>10.0</td>\n",
       "    </tr>\n",
       "    <tr>\n",
       "      <th>50%</th>\n",
       "      <td>1.594725e+08</td>\n",
       "      <td>6.919000e+04</td>\n",
       "      <td>10.0</td>\n",
       "    </tr>\n",
       "    <tr>\n",
       "      <th>75%</th>\n",
       "      <td>2.170463e+08</td>\n",
       "      <td>3.246370e+05</td>\n",
       "      <td>10.0</td>\n",
       "    </tr>\n",
       "    <tr>\n",
       "      <th>max</th>\n",
       "      <td>2.533464e+08</td>\n",
       "      <td>1.393592e+06</td>\n",
       "      <td>10.0</td>\n",
       "    </tr>\n",
       "  </tbody>\n",
       "</table>\n",
       "</div>"
      ],
      "text/plain": [
       "                 id      taxon.id  taxon.rank_level\n",
       "count  8.507300e+04  8.507300e+04           85073.0\n",
       "mean   1.452446e+08  1.667973e+05              10.0\n",
       "std    7.183329e+07  1.691351e+05               0.0\n",
       "min    7.918000e+03  5.216000e+04              10.0\n",
       "25%    8.532996e+07  5.248800e+04              10.0\n",
       "50%    1.594725e+08  6.919000e+04              10.0\n",
       "75%    2.170463e+08  3.246370e+05              10.0\n",
       "max    2.533464e+08  1.393592e+06              10.0"
      ]
     },
     "execution_count": 12,
     "metadata": {},
     "output_type": "execute_result"
    }
   ],
   "source": [
    "df.describe()"
   ]
  },
  {
   "cell_type": "code",
   "execution_count": 13,
   "metadata": {},
   "outputs": [
    {
     "name": "stdout",
     "output_type": "stream",
     "text": [
      "Column: id\n",
      "Unique values: [  7918  23923 188235 294726 299015 322683 345187 346407 346434 346448\n",
      " 346451 355503 363410 377184 377186 377188 377189 391317 411249 413867]\n",
      "Total unique values: 85073\n",
      "\n",
      "Column: species_guess\n",
      "Unique values: ['long hoverfly' 'volucella pellucens' 'american thintail fly'\n",
      " 'dangling swamp-lover' 'sericomyia silentis' 'marmalade hoverfly'\n",
      " 'meliscaeva auricollis' 'thick-legged hoverfly' 'stripe-winged drone fly'\n",
      " 'eristalis intricaria' 'leucozona glaucia' 'blaue breitbandschwebfliege'\n",
      " 'long hover fly' 'tapered dronefly' 'chrysogaster solstitialis'\n",
      " 'leucozona laternaria' 'cheilosia illustrata' 'trivittate sunfly'\n",
      " 'sunfly' 'european hoverfly']\n",
      "Total unique values: 636\n",
      "\n",
      "Column: time_observed_at\n",
      "Unique values: [nan '2013-07-06T15:53:53+01:00' '2013-07-24T01:35:25+01:00'\n",
      " '2013-07-26T11:42:17+01:00' '2013-07-26T10:57:12+01:00'\n",
      " '2013-07-26T11:22:01+01:00' '2013-07-26T10:53:01+01:00'\n",
      " '2013-08-01T12:17:59+01:00' '2013-08-10T13:48:01+01:00'\n",
      " '2013-08-25T16:33:54+01:00' '2013-08-25T16:30:50+01:00'\n",
      " '2013-08-25T15:30:23+01:00' '2013-08-25T15:55:27+01:00'\n",
      " '2013-09-05T16:49:37+01:00' '2013-09-28T15:34:28+01:00'\n",
      " '2013-09-24T13:50:14+01:00' '2014-05-24T13:16:25+02:00'\n",
      " '2014-05-24T13:19:55+02:00' '2008-08-23T15:50:06+01:00'\n",
      " '2008-07-06T14:29:23+01:00']\n",
      "Total unique values: 80254\n",
      "\n",
      "Column: identifications_most_agree\n",
      "Unique values: [ True False]\n",
      "Total unique values: 2\n",
      "\n",
      "Column: user.login\n",
      "Unique values: ['badgerseye' 'tiggrx' 'jaderr' 'rdmpage' 'hoppy1951' 'major_bombylius'\n",
      " 'nilpf' 'john11' 'finlaycox143' 'iana' 'petemella' 'chrismoody'\n",
      " 'c_michael_hogan' 'andyhill' 'figgybroom' 'huple' 'guisauco'\n",
      " 'terathopius' 'silversea_starsong' 'lera']\n",
      "Total unique values: 12292\n",
      "\n",
      "Column: uri\n",
      "Unique values: ['http://www.inaturalist.org/observations/7918'\n",
      " 'http://www.inaturalist.org/observations/23923'\n",
      " 'http://www.inaturalist.org/observations/188235'\n",
      " 'http://www.inaturalist.org/observations/294726'\n",
      " 'http://www.inaturalist.org/observations/299015'\n",
      " 'http://www.inaturalist.org/observations/322683'\n",
      " 'http://www.inaturalist.org/observations/345187'\n",
      " 'http://www.inaturalist.org/observations/346407'\n",
      " 'http://www.inaturalist.org/observations/346434'\n",
      " 'http://www.inaturalist.org/observations/346448'\n",
      " 'http://www.inaturalist.org/observations/346451'\n",
      " 'http://www.inaturalist.org/observations/355503'\n",
      " 'http://www.inaturalist.org/observations/363410'\n",
      " 'http://www.inaturalist.org/observations/377184'\n",
      " 'http://www.inaturalist.org/observations/377186'\n",
      " 'http://www.inaturalist.org/observations/377188'\n",
      " 'http://www.inaturalist.org/observations/377189'\n",
      " 'http://www.inaturalist.org/observations/391317'\n",
      " 'http://www.inaturalist.org/observations/411249'\n",
      " 'http://www.inaturalist.org/observations/413867']\n",
      "Total unique values: 85073\n",
      "\n",
      "Column: photos\n",
      "Unique values: [\"['https://inaturalist-open-data.s3.amazonaws.com/photos/17417/medium.JPG']\"\n",
      " \"['https://static.inaturalist.org/photos/43082/medium.jpg']\"\n",
      " \"['https://static.inaturalist.org/photos/242603/medium.JPG']\"\n",
      " \"['https://static.inaturalist.org/photos/365028/medium.jpg']\"\n",
      " \"['https://static.inaturalist.org/photos/370271/medium.jpg']\"\n",
      " \"['https://inaturalist-open-data.s3.amazonaws.com/photos/401512/medium.jpg', 'https://inaturalist-open-data.s3.amazonaws.com/photos/401513/medium.jpg', 'https://inaturalist-open-data.s3.amazonaws.com/photos/401484/medium.jpg', 'https://inaturalist-open-data.s3.amazonaws.com/photos/401518/medium.jpg']\"\n",
      " \"['https://inaturalist-open-data.s3.amazonaws.com/photos/429757/medium.jpg']\"\n",
      " \"['https://inaturalist-open-data.s3.amazonaws.com/photos/431444/medium.jpg']\"\n",
      " \"['https://inaturalist-open-data.s3.amazonaws.com/photos/431486/medium.jpg']\"\n",
      " \"['https://inaturalist-open-data.s3.amazonaws.com/photos/431505/medium.jpg']\"\n",
      " \"['https://inaturalist-open-data.s3.amazonaws.com/photos/431508/medium.jpg', 'https://inaturalist-open-data.s3.amazonaws.com/photos/432563/medium.jpg']\"\n",
      " \"['https://inaturalist-open-data.s3.amazonaws.com/photos/443459/medium.jpg']\"\n",
      " \"['https://inaturalist-open-data.s3.amazonaws.com/photos/453725/medium.jpg', 'https://inaturalist-open-data.s3.amazonaws.com/photos/453726/medium.jpg']\"\n",
      " \"['https://inaturalist-open-data.s3.amazonaws.com/photos/471569/medium.jpg', 'https://inaturalist-open-data.s3.amazonaws.com/photos/471570/medium.jpg', 'https://inaturalist-open-data.s3.amazonaws.com/photos/471572/medium.jpg']\"\n",
      " \"['https://inaturalist-open-data.s3.amazonaws.com/photos/471568/medium.jpg']\"\n",
      " \"['https://inaturalist-open-data.s3.amazonaws.com/photos/471580/medium.jpg']\"\n",
      " \"['https://inaturalist-open-data.s3.amazonaws.com/photos/471577/medium.jpg', 'https://inaturalist-open-data.s3.amazonaws.com/photos/471578/medium.jpg']\"\n",
      " \"['https://inaturalist-open-data.s3.amazonaws.com/photos/489572/medium.jpg']\"\n",
      " \"['https://inaturalist-open-data.s3.amazonaws.com/photos/517569/medium.jpg', 'https://inaturalist-open-data.s3.amazonaws.com/photos/517579/medium.jpg', 'https://inaturalist-open-data.s3.amazonaws.com/photos/517570/medium.jpg', 'https://inaturalist-open-data.s3.amazonaws.com/photos/517578/medium.jpg', 'https://inaturalist-open-data.s3.amazonaws.com/photos/517580/medium.jpg', 'https://inaturalist-open-data.s3.amazonaws.com/photos/517596/medium.jpg', 'https://inaturalist-open-data.s3.amazonaws.com/photos/517581/medium.jpg', 'https://inaturalist-open-data.s3.amazonaws.com/photos/517597/medium.jpg']\"\n",
      " \"['https://inaturalist-open-data.s3.amazonaws.com/photos/520807/medium.jpg']\"]\n",
      "Total unique values: 85067\n",
      "\n",
      "Column: taxon.id\n",
      "Unique values: [ 52964  52480 342901  52486  70190  52482 324637  81979 451464 497713\n",
      " 322692  52490  70147 333680 333694  70415  55719 346005  69190 356338]\n",
      "Total unique values: 200\n",
      "\n",
      "Column: taxon.rank\n",
      "Unique values: ['species']\n",
      "Total unique values: 1\n",
      "\n",
      "Column: taxon.rank_level\n",
      "Unique values: [10]\n",
      "Total unique values: 1\n",
      "\n",
      "Column: taxon.name\n",
      "Unique values: ['sphaerophoria scripta' 'volucella pellucens' 'meliscaeva cinctella'\n",
      " 'helophilus pendulus' 'sericomyia silentis' 'episyrphus balteatus'\n",
      " 'meliscaeva auricollis' 'syritta pipiens' 'eristalis horticola'\n",
      " 'eristalis intricaria' 'leucozona glaucia' 'eristalis pertinax'\n",
      " 'chrysogaster solstitialis' 'leucozona laternaria' 'cheilosia illustrata'\n",
      " 'helophilus trivittatus' 'eristalis tenax' 'dasysyrphus albostriatus'\n",
      " 'eupeodes corollae' 'cheilosia variabilis']\n",
      "Total unique values: 200\n",
      "\n"
     ]
    }
   ],
   "source": [
    "for column in df.columns:\n",
    "    unique_values = df[column].unique()\n",
    "    print(f\"Column: {column}\")\n",
    "    print(f\"Unique values: {unique_values[:20]}\")  # Displaying only the first 10 unique values for brevity\n",
    "    print(f\"Total unique values: {len(unique_values)}\\n\")"
   ]
  },
  {
   "cell_type": "code",
   "execution_count": 14,
   "metadata": {},
   "outputs": [
    {
     "data": {
      "text/plain": [
       "species_guess\n",
       "marmalade hover fly          7797\n",
       "tapered drone fly            7739\n",
       "common drone fly             5708\n",
       "sun fly                      5102\n",
       "hornet mimic hover fly       3522\n",
       "                             ... \n",
       "almindelig marksvirreflue       1\n",
       "srutinė žiedmusė                1\n",
       "광붙이꽃등에                          1\n",
       "mosca-zângão europeia           1\n",
       "long-tailed aphideater          1\n",
       "Name: count, Length: 636, dtype: int64"
      ]
     },
     "execution_count": 14,
     "metadata": {},
     "output_type": "execute_result"
    }
   ],
   "source": [
    "df[\"species_guess\"].value_counts()"
   ]
  },
  {
   "cell_type": "code",
   "execution_count": 20,
   "metadata": {},
   "outputs": [],
   "source": [
    "from sklearn.metrics.pairwise import cosine_similarity\n",
    "from sklearn.cluster import DBSCAN\n",
    "from fuzzywuzzy import fuzz\n",
    "from joblib import Parallel, delayed\n",
    "from sklearn.decomposition import PCA\n",
    "import matplotlib.pyplot as plt\n",
    "\n",
    "nlp = spacy.load(\"en_core_web_lg\")"
   ]
  },
  {
   "cell_type": "code",
   "execution_count": 21,
   "metadata": {},
   "outputs": [],
   "source": [
    "def normalize_text(text):\n",
    "    return text.lower().strip()\n",
    "\n",
    "# Function to compute text similarity matrix\n",
    "def compute_similarity_matrix(texts):\n",
    "    docs = nlp.pipe(texts)\n",
    "    vectors = np.array([doc.vector for doc in docs])\n",
    "\n",
    "    norms = np.linalg.norm(vectors, axis=1)\n",
    "    zero_norm_indices = np.where(norms == 0)[0]\n",
    "\n",
    "    if len(zero_norm_indices) > 0:\n",
    "        vectors[zero_norm_indices] = (\n",
    "            np.random.rand(len(zero_norm_indices), vectors.shape[1]) * 1e-6\n",
    "        )\n",
    "\n",
    "    norms = np.linalg.norm(vectors, axis=1)\n",
    "    vectors = vectors / norms[:, np.newaxis]\n",
    "\n",
    "    similarity_matrix = cosine_similarity(vectors)\n",
    "    return similarity_matrix\n",
    "\n",
    "\n",
    "# Function to compute fuzzy similarity matrix\n",
    "def compute_fuzzy_similarity_matrix(texts):\n",
    "    n = len(texts)\n",
    "    similarity_matrix = np.zeros((n, n))\n",
    "\n",
    "    def compute_similarity(i, j):\n",
    "        if i != j:\n",
    "            return fuzz.ratio(texts[i], texts[j]) / 100.0\n",
    "        else:\n",
    "            return 1.0\n",
    "\n",
    "    results = Parallel(n_jobs=-1)(\n",
    "        delayed(compute_similarity)(i, j) for i in range(n) for j in range(n)\n",
    "    )\n",
    "    similarity_matrix = np.array(results).reshape(n, n)\n",
    "    return similarity_matrix"
   ]
  },
  {
   "cell_type": "code",
   "execution_count": 22,
   "metadata": {},
   "outputs": [
    {
     "name": "stdout",
     "output_type": "stream",
     "text": [
      "texts:  0                   long hoverfly\n",
      "1             volucella pellucens\n",
      "2           american thintail fly\n",
      "3            dangling swamp-lover\n",
      "4            dangling swamp-lover\n",
      "5             sericomyia silentis\n",
      "6              marmalade hoverfly\n",
      "7              marmalade hoverfly\n",
      "8           meliscaeva auricollis\n",
      "9           thick-legged hoverfly\n",
      "10        stripe-winged drone fly\n",
      "11            sericomyia silentis\n",
      "12           eristalis intricaria\n",
      "13            sericomyia silentis\n",
      "14             marmalade hoverfly\n",
      "15              leucozona glaucia\n",
      "16    blaue breitbandschwebfliege\n",
      "17                 long hover fly\n",
      "18               tapered dronefly\n",
      "19      chrysogaster solstitialis\n",
      "Name: species_guess, dtype: object\n"
     ]
    }
   ],
   "source": [
    "df[\"species_guess\"] = df[\"species_guess\"].apply(normalize_text)\n",
    "texts = df[\"species_guess\"][0:20]\n",
    "print(\"texts: \", texts)"
   ]
  },
  {
   "cell_type": "code",
   "execution_count": 23,
   "metadata": {},
   "outputs": [
    {
     "name": "stdout",
     "output_type": "stream",
     "text": [
      "[ 0  1  2  3  3  4  5  5  6  7  8  9 10 11  5 12 13 14 15 16]\n"
     ]
    }
   ],
   "source": [
    "similarity_matrix = compute_similarity_matrix(texts)\n",
    "np.fill_diagonal(similarity_matrix, 1)\n",
    "\n",
    "# Convert similarity matrix to distance matrix\n",
    "distance_matrix = 1 - pd.DataFrame(similarity_matrix)\n",
    "\n",
    "# Clustering using dbscan\n",
    "dbscan = DBSCAN(eps=0.15, min_samples=1, metric=\"precomputed\")\n",
    "clusters = dbscan.fit_predict(distance_matrix)\n",
    "print(clusters)"
   ]
  },
  {
   "cell_type": "code",
   "execution_count": 24,
   "metadata": {},
   "outputs": [
    {
     "name": "stdout",
     "output_type": "stream",
     "text": [
      "[ 0  1  2  3  3  4  5  5  6  7  8  4  9  4  5 10 11  0 12 13]\n"
     ]
    },
    {
     "data": {
      "image/png": "[encoded data removed]",
      "text/plain": [
       "<Figure size 1200x800 with 2 Axes>"
      ]
     },
     "metadata": {},
     "output_type": "display_data"
    }
   ],
   "source": [
    "similarity_matrix = compute_fuzzy_similarity_matrix(texts)\n",
    "\n",
    "# Convert similarity matrix to distance matrix\n",
    "distance_matrix = 1 - similarity_matrix\n",
    "dbscan = DBSCAN(eps=0.1, min_samples=1, metric=\"precomputed\")\n",
    "clusters = dbscan.fit_predict(distance_matrix)\n",
    "print(clusters)\n",
    "\n",
    "cluster_counts = np.bincount(clusters + 1)  # Add 1 to handle -1 (noise) cluster\n",
    "sizes = cluster_counts[clusters + 1] * 100\n",
    "\n",
    "# Plotting the clusters using PCA for dimensionality reduction\n",
    "pca = PCA(n_components=2)\n",
    "reduced_data = pca.fit_transform(distance_matrix)\n",
    "\n",
    "plt.figure(figsize=(12, 8))\n",
    "scatter = plt.scatter(\n",
    "    reduced_data[:, 0], reduced_data[:, 1], c=clusters, cmap=\"viridis\", s=sizes\n",
    ")\n",
    "plt.title(\"Clusters of Species Guess\")\n",
    "plt.xlabel(\"PCA Component 1\")\n",
    "plt.ylabel(\"PCA Component 2\")\n",
    "plt.colorbar(scatter, label=\"Cluster Label\")\n",
    "\n",
    "plt.show()"
   ]
  },
  {
   "cell_type": "code",
   "execution_count": 25,
   "metadata": {},
   "outputs": [
    {
     "name": "stdout",
     "output_type": "stream",
     "text": [
      "taxon.name\n",
      "episyrphus balteatus      9895\n",
      "eristalis pertinax        8299\n",
      "eristalis tenax           6805\n",
      "helophilus pendulus       6142\n",
      "myathropa florea          5703\n",
      "                          ... \n",
      "pipizella maculipennis       1\n",
      "pipizella virens             1\n",
      "microdon devius              1\n",
      "melangyna arctica            1\n",
      "eupeodes americanus          1\n",
      "Name: count, Length: 200, dtype: int64\n"
     ]
    },
    {
     "data": {
      "text/plain": [
       "(85073,)"
      ]
     },
     "execution_count": 25,
     "metadata": {},
     "output_type": "execute_result"
    }
   ],
   "source": [
    "# Labels\n",
    "species = df[df[\"taxon.rank\"] == \"species\"][\"taxon.name\"]\n",
    "print(species.value_counts())\n",
    "species.shape"
   ]
  },
  {
   "cell_type": "code",
   "execution_count": 36,
   "metadata": {},
   "outputs": [
    {
     "name": "stdout",
     "output_type": "stream",
     "text": [
      "first encoded label:  <Compressed Sparse Row sparse matrix of dtype 'float64'\n",
      "\twith 1 stored elements and shape (1, 200)>\n",
      "  Coords\tValues\n",
      "  (0, 175)\t1.0\n",
      "sum:  1.0\n"
     ]
    },
    {
     "data": {
      "text/plain": [
       "0        <Compressed Sparse Row sparse matrix of dtype ...\n",
       "1        <Compressed Sparse Row sparse matrix of dtype ...\n",
       "2        <Compressed Sparse Row sparse matrix of dtype ...\n",
       "3        <Compressed Sparse Row sparse matrix of dtype ...\n",
       "4        <Compressed Sparse Row sparse matrix of dtype ...\n",
       "                               ...                        \n",
       "85068    <Compressed Sparse Row sparse matrix of dtype ...\n",
       "85069    <Compressed Sparse Row sparse matrix of dtype ...\n",
       "85070    <Compressed Sparse Row sparse matrix of dtype ...\n",
       "85071    <Compressed Sparse Row sparse matrix of dtype ...\n",
       "85072    <Compressed Sparse Row sparse matrix of dtype ...\n",
       "Name: enocded_lables, Length: 85073, dtype: object"
      ]
     },
     "execution_count": 36,
     "metadata": {},
     "output_type": "execute_result"
    }
   ],
   "source": [
    "from sklearn.preprocessing import OneHotEncoder\n",
    "species_vals = species.unique()\n",
    "\n",
    "onehot_encoder = OneHotEncoder()\n",
    "onehot_labels = onehot_encoder.fit_transform(species_vals.reshape(-1, 1))\n",
    "species_to_onehot = {\n",
    "    species: onehot_labels[i] for i, species in enumerate(species_vals)\n",
    "}\n",
    "print(\"first encoded label: \", species_to_onehot[species_vals[0]])\n",
    "print(\"sum: \", species_to_onehot[species_vals[0]].sum())\n",
    "\n",
    "df['enocded_lables'] = df['taxon.name'].apply(lambda x: species_to_onehot[x])\n",
    "df['enocded_lables']"
   ]
  }
 ],
 "metadata": {
  "kernelspec": {
   "display_name": "env",
   "language": "python",
   "name": "python3"
  },
  "language_info": {
   "codemirror_mode": {
    "name": "ipython",
    "version": 3
   },
   "file_extension": ".py",
   "mimetype": "text/x-python",
   "name": "python",
   "nbconvert_exporter": "python",
   "pygments_lexer": "ipython3",
   "version": "3.12.4"
  }
 },
 "nbformat": 4,
 "nbformat_minor": 2
}
